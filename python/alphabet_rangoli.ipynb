{
 "cells": [
  {
   "cell_type": "markdown",
   "id": "1db76a95",
   "metadata": {},
   "source": [
    "You are given an integer,**N**. Your task is to print an alphabet rangoli of size. (Rangoli is a form of Indian folk art based on creation of patterns.)\n",
    "\n",
    "Different sizes of alphabet rangoli are shown below:\n",
    "\n",
    "```text\n",
    "#size 3\n",
    "\n",
    "----c----\n",
    "--c-b-c--\n",
    "c-b-a-b-c\n",
    "--c-b-c--\n",
    "----c----\n",
    "\n",
    "#size 5\n",
    "\n",
    "--------e--------\n",
    "------e-d-e------\n",
    "----e-d-c-d-e----\n",
    "--e-d-c-b-c-d-e--\n",
    "e-d-c-b-a-b-c-d-e\n",
    "--e-d-c-b-c-d-e--\n",
    "----e-d-c-d-e----\n",
    "------e-d-e------\n",
    "--------e--------\n",
    "```"
   ]
  },
  {
   "cell_type": "code",
   "execution_count": 26,
   "id": "bea0b616",
   "metadata": {},
   "outputs": [
    {
     "name": "stderr",
     "output_type": "stream",
     "text": [
      ".\n",
      "----------------------------------------------------------------------\n",
      "Ran 1 test in 0.000s\n",
      "\n",
      "OK\n"
     ]
    }
   ],
   "source": [
    "#!/usr/bin/env python3\n",
    "# -*- coding: utf-8 -*-\n",
    "from string import ascii_lowercase as alph\n",
    "\n",
    "def print_rangoli(size):\n",
    "    rangoli = []\n",
    "    for i in range(size):\n",
    "        rangoli.append(alph[size-1:size-1-i:-1] + alph[size-1-i:size])\n",
    "        rangoli[i] = '-'.join(rangoli[i]).center(4*size-3, '-')\n",
    "\n",
    "    for i in range(len(rangoli)-2, -1, -1):\n",
    "        rangoli.append(rangoli[i])\n",
    "\n",
    "    return '\\n'.join(rangoli)\n",
    "\n",
    "import unittest\n",
    "class TestRangoli(unittest.TestCase):    \n",
    "    def test_rangoli(self):\n",
    "        rangoli3 = (\n",
    "        \"----c----\\n\"\n",
    "        \"--c-b-c--\\n\"\n",
    "        \"c-b-a-b-c\\n\"\n",
    "        \"--c-b-c--\\n\"\n",
    "        \"----c----\"\n",
    "        )\n",
    "        rangoli5 = (\n",
    "        \"--------e--------\\n\"\n",
    "        \"------e-d-e------\\n\"\n",
    "        \"----e-d-c-d-e----\\n\"\n",
    "        \"--e-d-c-b-c-d-e--\\n\"\n",
    "        \"e-d-c-b-a-b-c-d-e\\n\"\n",
    "        \"--e-d-c-b-c-d-e--\\n\"\n",
    "        \"----e-d-c-d-e----\\n\"\n",
    "        \"------e-d-e------\\n\"\n",
    "        \"--------e--------\"\n",
    "        )\n",
    "        self.assertEqual(print_rangoli(3), rangoli3)\n",
    "        self.assertEqual(print_rangoli(5), rangoli5)\n",
    "    \n",
    "if __name__ == '__main__':\n",
    "    # n = int(input())\n",
    "    # print_rangoli(n)\n",
    "    unittest.main(argv=['no exit'], exit=False)"
   ]
  }
 ],
 "metadata": {
  "kernelspec": {
   "display_name": "Python 3 (ipykernel)",
   "language": "python",
   "name": "python3"
  },
  "language_info": {
   "codemirror_mode": {
    "name": "ipython",
    "version": 3
   },
   "file_extension": ".py",
   "mimetype": "text/x-python",
   "name": "python",
   "nbconvert_exporter": "python",
   "pygments_lexer": "ipython3",
   "version": "3.10.6"
  }
 },
 "nbformat": 4,
 "nbformat_minor": 5
}
