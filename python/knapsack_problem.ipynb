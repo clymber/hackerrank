{
 "cells": [
  {
   "cell_type": "markdown",
   "id": "2d1801da-0edb-443e-a0f1-7c59f8b16a60",
   "metadata": {},
   "source": [
    "# Knapsack Problem\n",
    "\n",
    "[Knapsack Problem:](https://en.wikipedia.org/wiki/Knapsack_problem) Given a set of items, each with a weight and a value, determine which items to include in the collection so that the total weight is less than or equal to a given limit and the total value is as large as possible."
   ]
  },
  {
   "attachments": {},
   "cell_type": "markdown",
   "id": "3ced5ab9-74b3-4b0d-a322-9d5b0307975c",
   "metadata": {},
   "source": [
    "## 0-1 Knapsack Problem\n",
    "\n",
    "Knapsack Capacity: 6 kg;  \n",
    "| No. | Value | Weigh |\n",
    "|-----|-------|-------|\n",
    "| 1   | 5     | 4     |\n",
    "| 2   | 4     | 3     |\n",
    "| 3   | 3     | 2     |\n",
    "| 4   | 2     | 1     |\n",
    "\n",
    "| No. / Weigh | 0  | 1  | 2  | 3  | 4  | 5  | 6  |\n",
    "|-------------|----|----|----|----|----|----|----|\n",
    "| 0           | 0  | 0  | 0  | 0  | 0  | 0  | 0  |\n",
    "| 1           | 0  | 0  | 0  | 0  | 5  | 5  | 5  |\n",
    "| 2           | 0  | 0  | 0  | 4  | 5  | 5  | 5  |\n",
    "| 3           | 0  | 0  | 3  | 4  | 5  | 7  | 8  |\n",
    "| 4           | 0  | 2  | 3  | 5  | 6  | 7  | 9  |\n"
   ]
  },
  {
   "cell_type": "code",
   "execution_count": 1,
   "id": "32981d31-e958-428a-8e35-1db9455ea01e",
   "metadata": {},
   "outputs": [],
   "source": [
    "import sys\n",
    "\n",
    "def dynamic_knapsack(capacity:int, n:int, values:list[int], weighs:list[int]) -> int:\n",
    "    \"\"\" Dynamic Programming Approach \"\"\"\n",
    "    maxvalues = [[0 for v in range(capacity+1)] for _ in range(n+1)]\n",
    "\n",
    "    for i in range(1, n+1):\n",
    "        w, v = weighs[i-1], values[i-1]\n",
    "\n",
    "        for c in range(1, capacity+1):\n",
    "            if w > c:\n",
    "                maxvalues[i][c] = maxvalues[i-1][c]\n",
    "            else:\n",
    "                maxvalues[i][c] = max(maxvalues[i-1][c], maxvalues[i-1][c-w] + v)\n",
    "\n",
    "    # print('\\n', *maxvalues, sep='\\n', file=sys.stderr)\n",
    "    return maxvalues[n][capacity]\n"
   ]
  },
  {
   "cell_type": "code",
   "execution_count": 2,
   "id": "37dc3555-d5e8-49a2-a562-5ec486084824",
   "metadata": {},
   "outputs": [],
   "source": [
    "from sys import stderr\n",
    "from copy import deepcopy\n",
    "\n",
    "def dynamic_knapsack2(capacity:int, n:int, values:list[int], weighs:list[int]) -> int:\n",
    "    \"\"\" Dynamic Programming Approach \"\"\"\n",
    "    prev = [0 for v in range(capacity+1)]\n",
    "    curr = [0 for v in range(capacity+1)]\n",
    "\n",
    "    for i in range(n):\n",
    "        w, v = weighs[i], values[i]\n",
    "\n",
    "        for c in range(1, capacity+1):\n",
    "            if w <= c: curr[c] = max(prev[c], prev[c-w]+v)\n",
    "\n",
    "        if i < n-1: prev = deepcopy(curr)\n",
    "\n",
    "    # print('\\n', *curr, file=stderr)\n",
    "    return curr[-1]"
   ]
  },
  {
   "cell_type": "code",
   "execution_count": 3,
   "id": "1d62b522-276e-4735-8b0d-62ee6cdf40a8",
   "metadata": {},
   "outputs": [],
   "source": [
    "def recursive_knapsack(capacity:int, n:int, values:list[int], weighs:list[int]) -> int:\n",
    "    maxvalues = [[-1 for v in range(capacity+1)] for _ in range(n+1)]\n",
    "\n",
    "    def evaluate(i:int, j:int) -> None:\n",
    "        if i == 0 or j <= 0:\n",
    "            maxvalues[i][j] = 0\n",
    "            return None\n",
    "\n",
    "        w = weighs[i-1]\n",
    "        if maxvalues[i-1][j] == -1:\n",
    "            evaluate(i-1, j)\n",
    "        if w > j:\n",
    "            maxvalues[i][j] = maxvalues[i-1][j]\n",
    "            return None\n",
    "\n",
    "        v = values[i-1]\n",
    "        if maxvalues[i-1][j-w] == -1:\n",
    "            evaluate(i-1, j-w)\n",
    "        maxvalues[i][j] = max(maxvalues[i-1][j], maxvalues[i-1][j-w] + v)\n",
    "\n",
    "    evaluate(n, capacity)\n",
    "\n",
    "    # print('\\n', *maxvalues, sep='\\n', file=sys.stderr)\n",
    "    return maxvalues[n][capacity]"
   ]
  },
  {
   "cell_type": "code",
   "execution_count": 4,
   "id": "67156351-6141-4000-a422-80d5f6f2263e",
   "metadata": {},
   "outputs": [
    {
     "name": "stderr",
     "output_type": "stream",
     "text": [
      "...\n",
      "----------------------------------------------------------------------\n",
      "Ran 3 tests in 0.003s\n",
      "\n",
      "OK\n"
     ]
    }
   ],
   "source": [
    "import unittest\n",
    "\n",
    "class TestZeroOneKnapSack(unittest.TestCase):\n",
    "    def setUp(self):\n",
    "        self.capacity = 6\n",
    "        self.n = 4\n",
    "        self.values = [5, 4, 3, 2]\n",
    "        self.weighs = [4, 3, 2, 1]\n",
    "\n",
    "    def test_dinamic_knapsack(self):\n",
    "        self.assertEqual(dynamic_knapsack(self.capacity, self.n, self.values, self.weighs), 9)\n",
    "\n",
    "    def test_dinamic_knapsack2(self):\n",
    "        self.assertEqual(dynamic_knapsack2(self.capacity, self.n, self.values, self.weighs), 9)\n",
    "\n",
    "    def test_recursive_knapsack(self):\n",
    "        self.assertEqual(recursive_knapsack(self.capacity, self.n, self.values, self.weighs), 9)\n",
    "\n",
    "if __name__ == '__main__':\n",
    "    unittest.main(argv=['do not exit'], exit=False)"
   ]
  }
 ],
 "metadata": {
  "kernelspec": {
   "display_name": "Python 3 (ipykernel)",
   "language": "python",
   "name": "python3"
  },
  "language_info": {
   "codemirror_mode": {
    "name": "ipython",
    "version": 3
   },
   "file_extension": ".py",
   "mimetype": "text/x-python",
   "name": "python",
   "nbconvert_exporter": "python",
   "pygments_lexer": "ipython3",
   "version": "3.11.4"
  }
 },
 "nbformat": 4,
 "nbformat_minor": 5
}
