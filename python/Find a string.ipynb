{
 "cells": [
  {
   "cell_type": "markdown",
   "id": "2f3bdeac",
   "metadata": {},
   "source": [
    "In this challenge, the user enters a string and a substring. You have to print the number of times that the substring occurs in the given string. String traversal will take place from left to right, not from right to left.\n",
    "\n",
    "**NOTE:** String letters are case-sensitive.\n",
    "\n",
    "**Input Format**\n",
    "\n",
    "The first line of input contains the original string. The next line contains the substring.\n",
    "\n",
    "**Constraints**\n",
    "1 <= len(string) <= 200\n",
    "Each character in the string is an *ascii* character.\n",
    "\n",
    "**Output Format**\n",
    "\n",
    "Output the integer number indicating the total number of occurrences of the substring in the original string.\n",
    "\n",
    "**Sample Input**\n",
    "\n",
    "```text\n",
    "ABCDCDC\n",
    "CDC \n",
    "```\n",
    "\n",
    "**Sample Output**\n",
    "\n",
    "```text\n",
    "2 \n",
    "```\n",
    "\n",
    "**Concept**\n",
    "\n",
    "Some string processing examples, [such as these](http://www.thelearningpoint.net/computer-science/learning-python-programming-and-data-structures/learning-python-programming-and-data-structures--tutorial-12--string-manipulation), might be useful.\n",
    "There are a couple of new concepts:\n",
    "In Python, the length of a string is found by the function `len(s)`, where\n",
    "\n",
    "is the string.\n",
    "To traverse through the length of a string, use a *for* loop:\n",
    "\n",
    "```python\n",
    "for i in range(0, len(s)):\n",
    "    print (s[i]) \n",
    "```\n",
    "\n",
    "A range function is used to loop over some length:\n",
    "\n",
    "```python\n",
    "range (0, 5) \n",
    "```\n",
    "\n",
    "Here, the range loops over 0 to 4.  5 is excluded."
   ]
  },
  {
   "cell_type": "code",
   "execution_count": 13,
   "id": "dea69c7e",
   "metadata": {},
   "outputs": [
    {
     "name": "stderr",
     "output_type": "stream",
     "text": [
      ".\n",
      "----------------------------------------------------------------------\n",
      "Ran 1 test in 0.001s\n",
      "\n",
      "OK\n"
     ]
    }
   ],
   "source": [
    "#!/usr/bin/env python3\n",
    "import unittest\n",
    "\n",
    "def count_substring(string, sub_string):\n",
    "    pos, count = 0, 0\n",
    "    while True:\n",
    "        pos = string.find(sub_string, pos)\n",
    "        if pos < 0:\n",
    "            break\n",
    "        count += 1\n",
    "        pos += 1\n",
    "\n",
    "    return count\n",
    "\n",
    "class TestCountString(unittest.TestCase):\n",
    "    def test_count(self):\n",
    "        self.assertEqual(count_substring('ABCDCDC', 'CDC'), 2)\n",
    "\n",
    "if __name__ == '__main__':\n",
    "    unittest.main(argv=['no exit'], exit=False)\n",
    "\n"
   ]
  },
  {
   "cell_type": "code",
   "execution_count": null,
   "id": "a58797ea",
   "metadata": {},
   "outputs": [],
   "source": []
  }
 ],
 "metadata": {
  "kernelspec": {
   "display_name": "Python 3 (ipykernel)",
   "language": "python",
   "name": "python3"
  },
  "language_info": {
   "codemirror_mode": {
    "name": "ipython",
    "version": 3
   },
   "file_extension": ".py",
   "mimetype": "text/x-python",
   "name": "python",
   "nbconvert_exporter": "python",
   "pygments_lexer": "ipython3",
   "version": "3.10.6"
  }
 },
 "nbformat": 4,
 "nbformat_minor": 5
}
