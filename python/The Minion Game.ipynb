{
 "cells": [
  {
   "cell_type": "markdown",
   "id": "b5f1393c",
   "metadata": {},
   "source": [
    "# The Minion Game\n",
    "\n",
    "Kevin and Stuart want to play the 'The Minion Game'.\n",
    "\n",
    "**Game Rules**\n",
    "\n",
    "Both players are given the same string, **_S_** .\n",
    "Both players have to make substrings using the letters of the string **_S_** .\n",
    "Stuart has to make words starting with consonants.\n",
    "Kevin has to make words starting with vowels.\n",
    "The game ends when both players have made all possible substrings.\n",
    "\n",
    "**Scoring**\n",
    "A player gets +1 point for each occurrence of the substring in the **_S_** string.\n",
    "\n",
    "For Example:\n",
    "String S = BANANA\n",
    "Kevin's vowel beginning word = ANA\n",
    "Here, ANA occurs twice in BANANA. Hence, Kevin will get 2 Points.\n",
    "\n",
    "For better understanding, see the image below: \n",
    "\n",
    "![BANANA](./images/banana.png)\n",
    "\n",
    "Your task is to determine the winner of the game and their score.\n",
    "\n",
    "**Function Description**\n",
    "\n",
    "Complete the minion_game in the editor below.\n",
    "\n",
    "minion_game has the following parameters:\n",
    "\n",
    "- string string: the string to analyze\n",
    "\n",
    "**Prints**\n",
    "\n",
    "- string: the winner's name and score, separated by a space on one line, or Draw if there is no winner\n",
    "\n",
    "**Input Format**\n",
    "\n",
    "A single line of input containing the string **S**.\n",
    "Note: The string will contain only uppercase letters: **`[A-Z]`**."
   ]
  },
  {
   "cell_type": "code",
   "execution_count": 1,
   "id": "e2989e4a",
   "metadata": {},
   "outputs": [
    {
     "name": "stdout",
     "output_type": "stream",
     "text": [
      "BANANA\n",
      "Stuart 12\n"
     ]
    }
   ],
   "source": [
    "def minion_game(string):\n",
    "    vowels = 'AEIOU'\n",
    "    kevin_score, stuart_score = 0, 0\n",
    "    strlen = len(string)\n",
    "    \n",
    "    for i in range(0, strlen):\n",
    "        if string[i] in vowels:\n",
    "            kevin_score += strlen-i\n",
    "        else:\n",
    "            stuart_score += strlen-i\n",
    "\n",
    "    if kevin_score > stuart_score:\n",
    "        print(f\"Kevin {kevin_score}\")\n",
    "    elif kevin_score < stuart_score:\n",
    "        print(f\"Stuart {stuart_score}\")\n",
    "    else:\n",
    "        print(\"Draw\")\n",
    "        \n",
    "if __name__ == '__main__':\n",
    "    s = input()\n",
    "    minion_game(s)\n",
    "        \n"
   ]
  }
 ],
 "metadata": {
  "kernelspec": {
   "display_name": "Python 3 (ipykernel)",
   "language": "python",
   "name": "python3"
  },
  "language_info": {
   "codemirror_mode": {
    "name": "ipython",
    "version": 3
   },
   "file_extension": ".py",
   "mimetype": "text/x-python",
   "name": "python",
   "nbconvert_exporter": "python",
   "pygments_lexer": "ipython3",
   "version": "3.10.6"
  }
 },
 "nbformat": 4,
 "nbformat_minor": 5
}
